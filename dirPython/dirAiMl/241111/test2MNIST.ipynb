{
 "cells": [
  {
   "cell_type": "code",
   "execution_count": null,
   "metadata": {},
   "outputs": [],
   "source": [
    "import numpy as np # 导入Num Py库\n",
    "import pandas as pd # 导入Pandas库\n",
    "from keras.datasets import mnist #从Keras中导入MNIST数据集\n",
    "#读入训练集和测试集\n",
    "(X_train_image, y_train_lable), (X_test_image, y_test_lable) = mnist.load_data()\n",
    "\n",
    "print (\"数据集张量形状：\", X_train_image.shape) #用shape方法显示张量的形状\n",
    "print (\"第一个数据样本：\\n\", X_train_image[0]) #注意Python的索引是从0开始的\n",
    "print (\"第一个数据样本的标签：\", y_train_lable[0])"
   ]
  },
  {
   "cell_type": "code",
   "execution_count": null,
   "metadata": {},
   "outputs": [],
   "source": [
    "from keras.utils import to_categorical # 导入keras.utils工具库的类别转换工具\n",
    "X_train = X_train_image.reshape(60000, 28, 28, 1) # 给标签增加一个维度\n",
    "X_test = X_test_image.reshape(10000, 28, 28, 1) # 给标签增加一个维度\n",
    "y_train = to_categorical(y_train_lable, 10) # 特征转换为one-hot编码\n",
    "y_test = to_categorical(y_test_lable, 10) # 特征转换为one-hot编码\n",
    "print (\"训练集张量形状：\", X_train.shape) # 训练集张量的形状\n",
    "print (\"第一个数据标签：\", y_train[0]) # 显示标签集的第一个数据"
   ]
  },
  {
   "cell_type": "code",
   "execution_count": null,
   "metadata": {},
   "outputs": [],
   "source": [
    "from keras import models # 导入Keras模型, 以及各种神经网络的层\n",
    "from keras.layers import Dense, Dropout, Flatten, Conv2D, MaxPooling2D\n",
    "model = models.Sequential() # 用序贯方式建立模型\n",
    "model.add(Conv2D(32, (3, 3), activation='relu', # 添加Conv2D层\n",
    "                input_shape=(28, 28, 1)))  # 指定输入数据样本张量的类型\n",
    "model.add(MaxPooling2D(pool_size=(2, 2))) # 添加MaxPooling2D层\n",
    "model.add(Conv2D(64, (3, 3), activation='relu')) # 添加Conv2D层\n",
    "model.add(MaxPooling2D(pool_size=(2, 2))) # 添加MaxPooling2D层\n",
    "model.add(Dropout(0.25)) # 添加Dropout层\n",
    "model.add(Flatten()) # 展平\n",
    "model.add(Dense(128, activation='relu')) # 添加全连接层\n",
    "model.add(Dropout(0.5)) # 添加Dropout层\n",
    "model.add(Dense(10, activation='softmax')) # Softmax分类激活, 输出10维分类码\n",
    "# 编译模型\n",
    "model.compile(optimizer='rmsprop', # 指定优化器\n",
    "loss='categorical_crossentropy', # 指定损失函数\n",
    "metrics=['accuracy']) # 指定验证过程中的评估指标"
   ]
  },
  {
   "cell_type": "code",
   "execution_count": null,
   "metadata": {},
   "outputs": [],
   "source": [
    "model.fit(X_train, y_train, # 指定训练特征集和训练标签集\n",
    "            validation_split = 0.3, # 部分训练集数据拆分成验证集\n",
    "            epochs=5, # 训练轮次为5轮\n",
    "            batch_size=128) # 以128为批量进行训练"
   ]
  },
  {
   "cell_type": "code",
   "execution_count": null,
   "metadata": {},
   "outputs": [],
   "source": [
    "score = model.evaluate(X_test, y_test) # 在验证集上进行模型评估\n",
    "print('测试集预测准确率:', score[1]) # 输出测试集上的"
   ]
  },
  {
   "cell_type": "code",
   "execution_count": null,
   "metadata": {},
   "outputs": [],
   "source": [
    "pred = model.predict(X_test[0].reshape(1, 28, 28, 1)) # 预测测试集第一个数据\n",
    "print(pred[0], \"转换一下格式得到：\", pred.argmax()) # 把one-hot编码转换为数字\n",
    "import matplotlib.pyplot as plt # 导入绘图工具包\n",
    "plt.imshow(X_test[0].reshape(28, 28), cmap='Greys') # 输出这个图片"
   ]
  }
 ],
 "metadata": {
  "kernelspec": {
   "display_name": ".venv",
   "language": "python",
   "name": "python3"
  },
  "language_info": {
   "codemirror_mode": {
    "name": "ipython",
    "version": 3
   },
   "file_extension": ".py",
   "mimetype": "text/x-python",
   "name": "python",
   "nbconvert_exporter": "python",
   "pygments_lexer": "ipython3",
   "version": "3.11.2"
  }
 },
 "nbformat": 4,
 "nbformat_minor": 2
}

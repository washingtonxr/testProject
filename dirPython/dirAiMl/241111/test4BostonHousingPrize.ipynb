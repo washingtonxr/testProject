{
 "cells": [
  {
   "cell_type": "code",
   "execution_count": null,
   "metadata": {},
   "outputs": [],
   "source": [
    "import pandas as pd\n",
    "import numpy as np\n",
    "\n",
    "import seaborn as sns\n",
    "import plotly.express as px\n",
    "import matplotlib.pyplot as plt\n",
    "\n",
    "from sklearn.linear_model import LinearRegression\n",
    "from sklearn.model_selection import train_test_split"
   ]
  },
  {
   "cell_type": "code",
   "execution_count": null,
   "metadata": {},
   "outputs": [],
   "source": [
    "pd.options.display.float_format = '{:,.2f}'.format"
   ]
  },
  {
   "cell_type": "code",
   "execution_count": null,
   "metadata": {},
   "outputs": [],
   "source": [
    "data = pd.read_csv('boston.csv', index_col=0)"
   ]
  },
  {
   "cell_type": "code",
   "execution_count": null,
   "metadata": {},
   "outputs": [],
   "source": [
    "data.shape "
   ]
  },
  {
   "cell_type": "code",
   "execution_count": null,
   "metadata": {},
   "outputs": [],
   "source": [
    "data.columns "
   ]
  },
  {
   "cell_type": "code",
   "execution_count": null,
   "metadata": {},
   "outputs": [],
   "source": [
    "data.head()"
   ]
  },
  {
   "cell_type": "code",
   "execution_count": null,
   "metadata": {},
   "outputs": [],
   "source": [
    "data.tail()"
   ]
  },
  {
   "cell_type": "code",
   "execution_count": null,
   "metadata": {},
   "outputs": [],
   "source": [
    "data.count() # number of rows"
   ]
  },
  {
   "cell_type": "code",
   "execution_count": null,
   "metadata": {},
   "outputs": [],
   "source": [
    "data.info()"
   ]
  },
  {
   "cell_type": "code",
   "execution_count": null,
   "metadata": {},
   "outputs": [],
   "source": [
    "print(f'Any NaN values? {data.isna().values.any()}')\n",
    "print(f'Any duplicates? {data.duplicated().values.any()}')"
   ]
  },
  {
   "cell_type": "code",
   "execution_count": null,
   "metadata": {},
   "outputs": [],
   "source": [
    "data.describe()"
   ]
  },
  {
   "cell_type": "code",
   "execution_count": null,
   "metadata": {},
   "outputs": [],
   "source": [
    "sns.displot(data['PRICE'], \n",
    "            bins=50, \n",
    "            aspect=2,\n",
    "            kde=True, \n",
    "            color='#2196f3')\n",
    "\n",
    "plt.title(f'1970s Home Values in Boston. Average: ${(1000*data.PRICE.mean()):.6}')\n",
    "plt.xlabel('Price in 000s')\n",
    "plt.ylabel('Nr. of Homes')\n",
    "\n",
    "plt.show()"
   ]
  },
  {
   "cell_type": "code",
   "execution_count": null,
   "metadata": {},
   "outputs": [],
   "source": [
    "sns.displot(data.DIS, \n",
    "            bins=50, \n",
    "            aspect=2,\n",
    "            kde=True, \n",
    "            color='darkblue')\n",
    "\n",
    "plt.title(f'Distance to Employment Centres. Average: {(data.DIS.mean()):.2}')\n",
    "plt.xlabel('Weighted Distance to 5 Boston Employment Centres')\n",
    "plt.ylabel('Nr. of Homes')\n",
    "\n",
    "plt.show()"
   ]
  },
  {
   "cell_type": "code",
   "execution_count": null,
   "metadata": {},
   "outputs": [],
   "source": [
    "sns.displot(data.RM, \n",
    "            aspect=2,\n",
    "            kde=True, \n",
    "            color='#00796b')\n",
    "\n",
    "plt.title(f'Distribution of Rooms in Boston. Average: {data.RM.mean():.2}')\n",
    "plt.xlabel('Average Number of Rooms')\n",
    "plt.ylabel('Nr. of Homes')\n",
    "\n",
    "plt.show()"
   ]
  },
  {
   "cell_type": "code",
   "execution_count": null,
   "metadata": {},
   "outputs": [],
   "source": [
    "plt.figure(figsize=(5, 3), dpi=200)\n",
    "\n",
    "plt.hist(data['RAD'], \n",
    "         bins=24, \n",
    "         ec='black', \n",
    "         color='#7b1fa2', \n",
    "         rwidth=0.5)\n",
    "\n",
    "plt.xlabel('Accessibility to Highways')\n",
    "plt.ylabel('Nr. of Houses')\n",
    "plt.show()"
   ]
  },
  {
   "cell_type": "code",
   "execution_count": null,
   "metadata": {},
   "outputs": [],
   "source": [
    "river_access = data['CHAS'].value_counts()\n",
    "\n",
    "bar = px.bar(x=['No', 'Yes'],\n",
    "             y=river_access.values,\n",
    "             color=river_access.values,\n",
    "             color_continuous_scale=px.colors.sequential.haline,\n",
    "             title='Next to Charles River?')\n",
    "\n",
    "bar.update_layout(xaxis_title='Property Located Next to the River?', \n",
    "                  yaxis_title='Number of Homes',\n",
    "                  coloraxis_showscale=False)\n",
    "bar.show()"
   ]
  },
  {
   "cell_type": "code",
   "execution_count": null,
   "metadata": {},
   "outputs": [],
   "source": [
    "sns.pairplot(data)\n",
    "\n",
    "plt.show()"
   ]
  },
  {
   "cell_type": "code",
   "execution_count": null,
   "metadata": {},
   "outputs": [],
   "source": [
    "with sns.axes_style('darkgrid'):\n",
    "  sns.jointplot(x=data['DIS'], \n",
    "                y=data['NOX'], \n",
    "                height=8, \n",
    "                kind='scatter',\n",
    "                color='deeppink', \n",
    "                joint_kws={'alpha':0.5})\n",
    "\n",
    "plt.show()"
   ]
  },
  {
   "cell_type": "code",
   "execution_count": null,
   "metadata": {},
   "outputs": [],
   "source": [
    "with sns.axes_style('darkgrid'):\n",
    "  sns.jointplot(x=data.NOX, \n",
    "                y=data.INDUS, \n",
    "                # kind='hex', \n",
    "                height=7, \n",
    "                color='darkgreen',\n",
    "                joint_kws={'alpha':0.5})\n",
    "plt.show()"
   ]
  },
  {
   "cell_type": "code",
   "execution_count": null,
   "metadata": {},
   "outputs": [],
   "source": [
    "with sns.axes_style('darkgrid'):\n",
    "  sns.jointplot(x=data['LSTAT'], \n",
    "                y=data['RM'], \n",
    "                # kind='hex', \n",
    "                height=7, \n",
    "                color='orange',\n",
    "                joint_kws={'alpha':0.5})\n",
    "plt.show()"
   ]
  },
  {
   "cell_type": "code",
   "execution_count": null,
   "metadata": {},
   "outputs": [],
   "source": [
    "with sns.axes_style('darkgrid'):\n",
    "  sns.jointplot(x=data.LSTAT, \n",
    "                y=data.PRICE, \n",
    "                # kind='hex', \n",
    "                height=7, \n",
    "                color='crimson',\n",
    "                joint_kws={'alpha':0.5})\n",
    "plt.show()"
   ]
  },
  {
   "cell_type": "code",
   "execution_count": null,
   "metadata": {},
   "outputs": [],
   "source": [
    "with sns.axes_style('whitegrid'):\n",
    "  sns.jointplot(x=data.RM, \n",
    "                y=data.PRICE, \n",
    "                height=7, \n",
    "                color='darkblue',\n",
    "                joint_kws={'alpha':0.5})\n",
    "plt.show()"
   ]
  },
  {
   "cell_type": "code",
   "execution_count": null,
   "metadata": {},
   "outputs": [],
   "source": [
    "target = data['PRICE']\n",
    "features = data.drop('PRICE', axis=1)\n",
    "\n",
    "X_train, X_test, y_train, y_test = train_test_split(features, \n",
    "                                                    target, \n",
    "                                                    test_size=0.2, \n",
    "                                                    random_state=10)"
   ]
  },
  {
   "cell_type": "code",
   "execution_count": null,
   "metadata": {},
   "outputs": [],
   "source": [
    "# % of training set\n",
    "train_pct = 100*len(X_train)/len(features)\n",
    "print(f'Training data is {train_pct:.3}% of the total data.')\n",
    "\n",
    "# % of test data set\n",
    "test_pct = 100*X_test.shape[0]/features.shape[0]\n",
    "print(f'Test data makes up the remaining {test_pct:0.3}%.')"
   ]
  },
  {
   "cell_type": "code",
   "execution_count": null,
   "metadata": {},
   "outputs": [],
   "source": [
    "regr = LinearRegression()\n",
    "regr.fit(X_train, y_train)\n",
    "rsquared = regr.score(X_train, y_train)\n",
    "\n",
    "print(f'Training data r-squared: {rsquared:.2}')"
   ]
  },
  {
   "cell_type": "code",
   "execution_count": null,
   "metadata": {},
   "outputs": [],
   "source": [
    "regr_coef = pd.DataFrame(data=regr.coef_, index=X_train.columns, columns=['Coefficient'])\n",
    "regr_coef"
   ]
  },
  {
   "cell_type": "code",
   "execution_count": null,
   "metadata": {},
   "outputs": [],
   "source": [
    "premium = regr_coef.loc['RM'].values[0] * 1000  # i.e., ~3.11 * 1000\n",
    "print(f'The price premium for having an extra room is ${premium:.5}')"
   ]
  },
  {
   "cell_type": "code",
   "execution_count": null,
   "metadata": {},
   "outputs": [],
   "source": [
    "predicted_vals = regr.predict(X_train)\n",
    "residuals = (y_train - predicted_vals)"
   ]
  },
  {
   "cell_type": "code",
   "execution_count": null,
   "metadata": {},
   "outputs": [],
   "source": [
    "# Original Regression of Actual vs. Predicted Prices\n",
    "plt.figure(dpi=100)\n",
    "plt.scatter(x=y_train, y=predicted_vals, c='indigo', alpha=0.6)\n",
    "plt.plot(y_train, y_train, color='cyan')\n",
    "plt.title(f'Actual vs Predicted Prices: $y _i$ vs $\\hat y_i$', fontsize=17)\n",
    "plt.xlabel('Actual prices 000s $y _i$', fontsize=14)\n",
    "plt.ylabel('Prediced prices 000s $\\hat y _i$', fontsize=14)\n",
    "plt.show()\n",
    "\n",
    "# Residuals vs Predicted values\n",
    "plt.figure(dpi=100)\n",
    "plt.scatter(x=predicted_vals, y=residuals, c='indigo', alpha=0.6)\n",
    "plt.title('Residuals vs Predicted Values', fontsize=17)\n",
    "plt.xlabel('Predicted Prices $\\hat y _i$', fontsize=14)\n",
    "plt.ylabel('Residuals', fontsize=14)\n",
    "plt.show()"
   ]
  },
  {
   "cell_type": "code",
   "execution_count": null,
   "metadata": {},
   "outputs": [],
   "source": [
    "# Residual Distribution Chart\n",
    "resid_mean = round(residuals.mean(), 2)\n",
    "resid_skew = round(residuals.skew(), 2)\n",
    "\n",
    "sns.displot(residuals, kde=True, color='indigo')\n",
    "plt.title(f'Residuals Skew ({resid_skew}) Mean ({resid_mean})')\n",
    "plt.show()"
   ]
  },
  {
   "cell_type": "code",
   "execution_count": null,
   "metadata": {},
   "outputs": [],
   "source": [
    "tgt_skew = data['PRICE'].skew()\n",
    "sns.displot(data['PRICE'], kde='kde', color='green')\n",
    "plt.title(f'Normal Prices. Skew is {tgt_skew:.3}')\n",
    "plt.show()"
   ]
  },
  {
   "cell_type": "code",
   "execution_count": null,
   "metadata": {},
   "outputs": [],
   "source": [
    "y_log = np.log(data['PRICE'])\n",
    "sns.displot(y_log, kde=True)\n",
    "plt.title(f'Log Prices. Skew is {y_log.skew():.3}')\n",
    "plt.show()"
   ]
  },
  {
   "cell_type": "code",
   "execution_count": null,
   "metadata": {},
   "outputs": [],
   "source": [
    "plt.figure(dpi=150)\n",
    "plt.scatter(data.PRICE, np.log(data.PRICE))\n",
    "\n",
    "plt.title('Mapping the Original Price to a Log Price')\n",
    "plt.ylabel('Log Price')\n",
    "plt.xlabel('Actual $ Price in 000s')\n",
    "plt.show()"
   ]
  },
  {
   "cell_type": "code",
   "execution_count": null,
   "metadata": {},
   "outputs": [],
   "source": [
    "new_target = np.log(data['PRICE']) # Use log prices\n",
    "features = data.drop('PRICE', axis=1)\n",
    "\n",
    "X_train, X_test, log_y_train, log_y_test = train_test_split(features, \n",
    "                                                    new_target, \n",
    "                                                    test_size=0.2, \n",
    "                                                    random_state=10)\n",
    "\n",
    "log_regr = LinearRegression()\n",
    "log_regr.fit(X_train, log_y_train)\n",
    "log_rsquared = log_regr.score(X_train, log_y_train)\n",
    "\n",
    "log_predictions = log_regr.predict(X_train)\n",
    "log_residuals = (log_y_train - log_predictions)\n",
    "\n",
    "print(f'Training data r-squared: {log_rsquared:.2}')"
   ]
  },
  {
   "cell_type": "code",
   "execution_count": null,
   "metadata": {},
   "outputs": [],
   "source": [
    "df_coef = pd.DataFrame(data=log_regr.coef_, index=X_train.columns, columns=['coef'])\n",
    "df_coef"
   ]
  },
  {
   "cell_type": "code",
   "execution_count": null,
   "metadata": {},
   "outputs": [],
   "source": [
    "# Graph of Actual vs. Predicted Log Prices\n",
    "plt.scatter(x=log_y_train, y=log_predictions, c='navy', alpha=0.6)\n",
    "plt.plot(log_y_train, log_y_train, color='cyan')\n",
    "plt.title(f'Actual vs Predicted Log Prices: $y _i$ vs $\\hat y_i$ (R-Squared {log_rsquared:.2})', fontsize=17)\n",
    "plt.xlabel('Actual Log Prices $y _i$', fontsize=14)\n",
    "plt.ylabel('Prediced Log Prices $\\hat y _i$', fontsize=14)\n",
    "plt.show()\n",
    "\n",
    "# Original Regression of Actual vs. Predicted Prices\n",
    "plt.scatter(x=y_train, y=predicted_vals, c='indigo', alpha=0.6)\n",
    "plt.plot(y_train, y_train, color='cyan')\n",
    "plt.title(f'Original Actual vs Predicted Prices: $y _i$ vs $\\hat y_i$ (R-Squared {rsquared:.3})', fontsize=17)\n",
    "plt.xlabel('Actual prices 000s $y _i$', fontsize=14)\n",
    "plt.ylabel('Prediced prices 000s $\\hat y _i$', fontsize=14)\n",
    "plt.show()\n",
    "\n",
    "# Residuals vs Predicted values (Log prices)\n",
    "plt.scatter(x=log_predictions, y=log_residuals, c='navy', alpha=0.6)\n",
    "plt.title('Residuals vs Fitted Values for Log Prices', fontsize=17)\n",
    "plt.xlabel('Predicted Log Prices $\\hat y _i$', fontsize=14)\n",
    "plt.ylabel('Residuals', fontsize=14)\n",
    "plt.show()\n",
    "\n",
    "# Residuals vs Predicted values\n",
    "plt.scatter(x=predicted_vals, y=residuals, c='indigo', alpha=0.6)\n",
    "plt.title('Original Residuals vs Fitted Values', fontsize=17)\n",
    "plt.xlabel('Predicted Prices $\\hat y _i$', fontsize=14)\n",
    "plt.ylabel('Residuals', fontsize=14)\n",
    "plt.show()"
   ]
  },
  {
   "cell_type": "code",
   "execution_count": null,
   "metadata": {},
   "outputs": [],
   "source": [
    "# Distribution of Residuals (log prices) - checking for normality\n",
    "log_resid_mean = round(log_residuals.mean(), 2)\n",
    "log_resid_skew = round(log_residuals.skew(), 2)\n",
    "\n",
    "sns.displot(log_residuals, kde=True, color='navy')\n",
    "plt.title(f'Log price model: Residuals Skew ({log_resid_skew}) Mean ({log_resid_mean})')\n",
    "plt.show()\n",
    "\n",
    "sns.displot(residuals, kde=True, color='indigo')\n",
    "plt.title(f'Original model: Residuals Skew ({resid_skew}) Mean ({resid_mean})')\n",
    "plt.show()"
   ]
  },
  {
   "cell_type": "code",
   "execution_count": null,
   "metadata": {},
   "outputs": [],
   "source": [
    "print(f'Original Model Test Data r-squared: {regr.score(X_test, y_test):.2}')\n",
    "print(f'Log Model Test Data r-squared: {log_regr.score(X_test, log_y_test):.2}')"
   ]
  },
  {
   "cell_type": "code",
   "execution_count": null,
   "metadata": {},
   "outputs": [],
   "source": [
    "# Starting Point: Average Values in the Dataset\n",
    "features = data.drop(['PRICE'], axis=1)\n",
    "average_vals = features.mean().values\n",
    "property_stats = pd.DataFrame(data=average_vals.reshape(1, len(features.columns)), \n",
    "                              columns=features.columns)\n",
    "property_stats"
   ]
  },
  {
   "cell_type": "code",
   "execution_count": null,
   "metadata": {},
   "outputs": [],
   "source": [
    "# Make prediction\n",
    "log_estimate = log_regr.predict(property_stats)[0]\n",
    "print(f'The log price estimate is ${log_estimate:.3}')\n",
    "\n",
    "# Convert Log Prices to Acutal Dollar Values\n",
    "dollar_est = np.e**log_estimate * 1000\n",
    "# or use\n",
    "dollar_est = np.exp(log_estimate) * 1000\n",
    "print(f'The property is estimated to be worth ${dollar_est:.6}')"
   ]
  },
  {
   "cell_type": "code",
   "execution_count": null,
   "metadata": {},
   "outputs": [],
   "source": [
    "# Define Property Characteristics\n",
    "next_to_river = True\n",
    "nr_rooms = 8\n",
    "students_per_classroom = 20 \n",
    "distance_to_town = 5\n",
    "pollution = data.NOX.quantile(q=0.75) # high\n",
    "amount_of_poverty =  data.LSTAT.quantile(q=0.25) # low"
   ]
  },
  {
   "cell_type": "code",
   "execution_count": null,
   "metadata": {},
   "outputs": [],
   "source": [
    "# Solution\n",
    "# Set Property Characteristics\n",
    "property_stats['RM'] = nr_rooms\n",
    "property_stats['PTRATIO'] = students_per_classroom\n",
    "property_stats['DIS'] = distance_to_town\n",
    "\n",
    "if next_to_river:\n",
    "    property_stats['CHAS'] = 1\n",
    "else:\n",
    "    property_stats['CHAS'] = 0\n",
    "\n",
    "property_stats['NOX'] = pollution\n",
    "property_stats['LSTAT'] = amount_of_poverty"
   ]
  },
  {
   "cell_type": "code",
   "execution_count": null,
   "metadata": {},
   "outputs": [],
   "source": [
    "# Make prediction\n",
    "log_estimate = log_regr.predict(property_stats)[0]\n",
    "print(f'The log price estimate is ${log_estimate:.3}')\n",
    "\n",
    "# Convert Log Prices to Acutal Dollar Values\n",
    "dollar_est = np.e**log_estimate * 1000\n",
    "print(f'The property is estimated to be worth ${dollar_est:.6}')"
   ]
  }
 ],
 "metadata": {
  "kernelspec": {
   "display_name": ".venv",
   "language": "python",
   "name": "python3"
  },
  "language_info": {
   "codemirror_mode": {
    "name": "ipython",
    "version": 3
   },
   "file_extension": ".py",
   "mimetype": "text/x-python",
   "name": "python",
   "nbconvert_exporter": "python",
   "pygments_lexer": "ipython3",
   "version": "3.11.2"
  }
 },
 "nbformat": 4,
 "nbformat_minor": 2
}

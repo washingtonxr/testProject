{
 "cells": [
  {
   "cell_type": "code",
   "execution_count": null,
   "metadata": {},
   "outputs": [],
   "source": [
    "import pandas as pd\n",
    "#Solution 1\n",
    "!wget https://raw.githubusercontent.com/alexeygrigorev/datasets/master/housing.csv\n",
    "!ls\n",
    "#Solution 2\n",
    "#df_housing = pd.read_csv(\"rawDataSet/housing.csv\")\n",
    "#df_housing = pd.read_csv(\"https://raw.githubusercontent.com/alexeygrigorev/datasets/master/housing.csv\")\n",
    "print(df_housing.head)\n",
    "\n",
    "# Apply one-hot encoding to the 'ocean_proximity' column\n",
    "#df_housing = pd.get_dummies(df_housing, columns=['ocean_proximity'])  # This encodes 'INLAND' and other categories\n",
    "#print(df_housing.head)\n",
    "#X = df_housing.drop(\"median_house_value\", axis = 1) #构建特征集X\n",
    "# Drop 'ocean_proximity' and 'median_house_value' from df_housing to get only features\n",
    "X = df_housing.drop(columns=['ocean_proximity', 'median_house_value'], axis = 1)\n",
    "y = df_housing.median_house_value #构建标签集y\n",
    "\n",
    "print(X.head)"
   ]
  },
  {
   "cell_type": "code",
   "execution_count": null,
   "metadata": {},
   "outputs": [],
   "source": [
    "from sklearn.model_selection import train_test_split #导入sklearn工具库\n",
    "X_train, X_test, y_train, y_test = train_test_split(X, y, test_size=0.2, random_state=0) #以80%/20%的比例进行数据集的拆分\n",
    "#X_train, X_test, y_train, y_test = train_test_split(X, y, test_size=0.2, random_state=30)\n",
    "\n",
    "# print(X_train.head)\n",
    "# print(X_test.head)\n",
    "# print(y_train.head)\n",
    "# print(y_test.head)\n",
    "\n",
    "print(X_train.isnull().sum())\n",
    "print(X_test.isnull().sum())\n",
    "print(y_train.isnull().sum())\n",
    "print(y_test.isnull().sum())\n",
    "\n",
    "X_train = X_train.fillna(0)\n",
    "X_test = X_test.fillna(0)\n",
    "\n",
    "print(X_train.isnull().sum())\n",
    "print(X_test.isnull().sum())\n",
    "print(y_train.isnull().sum())\n",
    "print(y_test.isnull().sum())"
   ]
  },
  {
   "cell_type": "code",
   "execution_count": null,
   "metadata": {},
   "outputs": [],
   "source": [
    "from sklearn.linear_model import LinearRegression #导入线性回归算法模型\n",
    "model = LinearRegression() #确定线性回归算法\n",
    "print(f\"X_traintype:{X_train.dtypes}\")  # All columns should show a numeric type (e.g., int64 or float64)\n",
    "print(\"y_train:\", y_train.dtypes)  # All columns should show a numeric type (e.g., int64 or float64)\n",
    "model.fit(X_train, y_train) #根据训练集数据, 训练机器, 拟合函数"
   ]
  },
  {
   "cell_type": "code",
   "execution_count": null,
   "metadata": {},
   "outputs": [],
   "source": [
    "y_pred = model.predict(X_test) #预测验证集的y值\n",
    "print ('房价的真值(测试集)', y_test)\n",
    "print ('预测的房价(测试集)', y_pred)\n",
    "print(\"给预测评分：\", model.score(X_test, y_test)) #评估预测结果"
   ]
  },
  {
   "cell_type": "code",
   "execution_count": null,
   "metadata": {},
   "outputs": [],
   "source": [
    "import matplotlib.pyplot as plt #导入Matplotlib库\n",
    "\n",
    "#用散点图显示家庭收入中位数和房价中位数的分布\n",
    "plt.scatter(X_test.median_income, y_test, color='brown')\n",
    "\n",
    "#画出回归函数(从特征到预测标签)\n",
    "plt.plot(X_test.median_income, y_pred, color='green', linewidth=1)\n",
    "plt.xlabel('Median Income') #x轴：家庭收入中位数\n",
    "plt.ylabel('Median House Value') #y轴：房价中位数\n",
    "plt.show() #显示房价分布和机器学习到的函数模型"
   ]
  }
 ],
 "metadata": {
  "kernelspec": {
   "display_name": ".venv",
   "language": "python",
   "name": "python3"
  },
  "language_info": {
   "codemirror_mode": {
    "name": "ipython",
    "version": 3
   },
   "file_extension": ".py",
   "mimetype": "text/x-python",
   "name": "python",
   "nbconvert_exporter": "python",
   "pygments_lexer": "ipython3",
   "version": "3.11.2"
  }
 },
 "nbformat": 4,
 "nbformat_minor": 2
}

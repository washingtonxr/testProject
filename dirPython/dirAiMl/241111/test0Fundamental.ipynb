{
 "cells": [
  {
   "cell_type": "code",
   "execution_count": null,
   "metadata": {},
   "outputs": [],
   "source": [
    "import numpy as np #导入Num Py库"
   ]
  },
  {
   "cell_type": "code",
   "execution_count": null,
   "metadata": {},
   "outputs": [],
   "source": [
    "X = np.array(5) #创建0D张量, 也就是标量\n",
    "print(\"X的值\", X)\n",
    "print(\"X的阶\", X.ndim) #ndim属性显示标量的阶\n",
    "print(\"X的数据类型\", X.dtype) #dtype属性显示标量的数据类型\n",
    "print(\"X的形状\", X.shape) #shape属性显示标量的形状"
   ]
  },
  {
   "cell_type": "code",
   "execution_count": null,
   "metadata": {},
   "outputs": [],
   "source": [
    "X = np.array([5, 6, 7, 8, 9]) #创建1D张量, 也就是向量\n",
    "print(\"X的值\", X)\n",
    "print(\"X的阶\", X.ndim) #ndim属性显示向量的阶\n",
    "print(\"X的形状\", X.shape) #shape属性显示向量的形状"
   ]
  },
  {
   "cell_type": "code",
   "execution_count": null,
   "metadata": {},
   "outputs": [],
   "source": [
    "X = np.array([5]) #1维向量, 也就是1D数组里面只有一个元素\n",
    "print(\"X的值\", X)\n",
    "print(\"X的阶\", X.ndim) #ndim属性显示向量的阶\n",
    "print(\"X的形状\", X.shape) #shape属性显示向量的形状"
   ]
  },
  {
   "cell_type": "code",
   "execution_count": null,
   "metadata": {},
   "outputs": [],
   "source": [
    "from keras.datasets import boston_housing #波士顿房价数据集(需要打开Internet选项)\n",
    "(X_train, y_train), (X_test, y_test) = boston_housing.load_data()\n",
    "print(\"X_train的形状：\", X_train.shape)\n",
    "print(\"X_train中第一个样本的形状：\", X_train[0].shape)\n",
    "print(\"y_train的形状：\", y_train.shape)\n",
    "print(X_test[0])\n",
    "print(y_test[0])"
   ]
  },
  {
   "cell_type": "code",
   "execution_count": null,
   "metadata": {},
   "outputs": [],
   "source": [
    "weight = np.array([1, -1.8, 1, 1, 2]) #权重向量(也就是多项式的参数)\n",
    "X = np.array([1, 6, 7, 8, 9]) #特征向量(也就是一个特定样本中的特征值)\n",
    "y_hat = np.dot(X, weight) #通过点积运算构建预测函数\n",
    "print('函数返回结果:', y_hat) #输出预测结果\n",
    "print(\"y shape:\", y_hat.shape)\n",
    "\n",
    "# y_hat = weight.dot(X) # X.dot(weight)也可以实现同样效果"
   ]
  },
  {
   "cell_type": "code",
   "execution_count": null,
   "metadata": {},
   "outputs": [],
   "source": [
    "# 创建3D张量\n",
    "X = np.array([[[1, 22, 4, 78, 2],\n",
    "[2, 59, 6, 56, 1],\n",
    "[3, 31, 8, 54, 0]],\n",
    "[[4, 56, 9, 34, 1],\n",
    "[5, 78, 8, 35, 2],\n",
    "[6, 34, 7, 36, 0]],\n",
    "[[7, 45, 5, 34, 5],\n",
    "[8, 53, 6, 35, 4],\n",
    "[9, 81, 4, 36, 5]]])\n",
    "print(\"y rank\", X.ndim) #ndim属性显示向量的阶\n",
    "print(\"y shape:\", X.shape)"
   ]
  },
  {
   "cell_type": "code",
   "execution_count": null,
   "metadata": {},
   "outputs": [],
   "source": [
    "import numpy as np # 导入Num Py库\n",
    "list=[1, 2, 3, 4, 5] # 创建列表\n",
    "array_01=np.array(list) # 列表转换为数组\n",
    "array_02=np.array((6, 7, 8, 9, 10)) # 元组转换为数组\n",
    "array_03=np.array([[1, 2, 3], [4, 5, 6]]) # 列表转换为2D数组\n",
    "array_04=np.array([[1, 2, 3, 4], [5, 6, 7, 8], [9, 9.1, 9.2, 9.3]]) # 列表转换为2D数组\n",
    "print ('列表：', list)\n",
    "print ('列表转换为数组：', array_01, 'shape:', array_01.shape)\n",
    "print ('元组转换为数组：', array_02, 'shape:', array_02.shape)\n",
    "print ('2D数组：', array_03, 'shape:', array_03.shape)\n",
    "print ('3D数组：', array_04, 'shape:', array_04.shape)\n",
    "# print ('列表的形状：', list.shape)# 列表没有形状, 程序会报错\n",
    "\n",
    "array_04_1=np.arange(1, 5, 0.05) # 通过arange函数生成数\n",
    "array_05_1=np.linspace(1, 5, 3) # 通过linspace函数生成数组\n",
    "print (array_04_1)\n",
    "print (array_05_1)"
   ]
  },
  {
   "cell_type": "code",
   "execution_count": null,
   "metadata": {},
   "outputs": [],
   "source": [
    "array_06 = np.arange(10)\n",
    "print (array_06)\n",
    "index_01 = array_06[3] # 索引—第4个元素\n",
    "print ('第4个元素', index_01)\n",
    "index_02 = array_06[-1] # 索引—最后一个元素\n",
    "print ('第-1个元素', index_02)\n",
    "slice_01 = array_06[:4] # 从0到4切片\n",
    "print ('从0到4切片', slice_01)\n",
    "slice_02 = array_06[0:12:4] # 从0到12切片, 步长为4\n",
    "print ('从0到12切片, 步长为4', slice_02)"
   ]
  },
  {
   "cell_type": "code",
   "execution_count": null,
   "metadata": {},
   "outputs": [],
   "source": [
    "from keras.datasets import mnist #需要打开Internet选项\n",
    "(X_train, y_train), (X_test, y_test) = mnist.load_data()\n",
    "print (X_train.shape, X_train.ndim)\n",
    "print (y_train.shape, y_train.ndim)\n",
    "print (X_test.shape, X_test.ndim)\n",
    "print (y_test.shape, y_test.ndim)\n",
    "X_train_slice = X_train[10000:15000, :, :]\n",
    "print ('shape:',X_train_slice.shape, 'dim:',X_train_slice.ndim)"
   ]
  },
  {
   "cell_type": "code",
   "execution_count": null,
   "metadata": {},
   "outputs": [],
   "source": [
    "array_07 = np.array([[1, 2, 3], [4, 5, 6]])\n",
    "print (array_07, '它的形状是', array_07.shape, 'dim:', array_07.ndim)\n",
    "print (array_07[1:2], '它的形状是', array_07[1:2].shape, 'dim:', array_07[1:2].ndim)\n",
    "print (array_07[1:2][0], '它的形状又不同了', array_07[1:2][0].shape, 'dim:', array_07[1:2][0].ndim)\n",
    "print (np.sqrt(array_07)) #输出每一个元素的平方根\n",
    "print (array_07.reshape(3, 2), '形状是', array_07.reshape(3, 2).shape)\n",
    "print (array_07.T, '形状是', array_07.T.shape)"
   ]
  },
  {
   "cell_type": "code",
   "execution_count": null,
   "metadata": {},
   "outputs": [],
   "source": [
    "array_06 = np.arange(10)\n",
    "print (array_06, '形状是', array_06.shape, '阶为', array_06.ndim)\n",
    "array_06 = array_06.reshape(10, 1)\n",
    "print (array_06, '形状是', array_06.shape, '阶为', array_06.ndim)"
   ]
  },
  {
   "cell_type": "code",
   "execution_count": null,
   "metadata": {},
   "outputs": [],
   "source": [
    "array_08 = np.array([[0, 0, 0], [10, 10, 10], [20, 20, 20], [30, 30, 30]])\n",
    "array_09 = np.array([[0, 1, 2]])\n",
    "array_10 = np.array([[0], [1], [2], [3]])\n",
    "list_11 = [[0, 1, 2]]\n",
    "print (array_08, 'array_08的形状:', array_08.shape, '阶为', array_08.ndim)\n",
    "print ('array_09的形状:', array_09.shape )\n",
    "print ('array_10的形状:', array_10.shape )\n",
    "array_12 = array_09.reshape(3)\n",
    "print ('array_12的形状:', array_12.shape )\n",
    "array_13 = np.array([5])\n",
    "print (array_13, 'array_13的形状:', array_13.shape, '阶为', array_13.ndim)\n",
    "array_14 = array_13.reshape(1, 1)\n",
    "print (array_14, 'array_14的形状:', array_14.shape, '阶为', array_14.ndim )\n",
    "print ('08 + 09结果：', array_08 + array_09)\n",
    "print ('08 + 10结果：', array_08 + array_10)\n",
    "print ('08 + 11结果：', array_08 + list_11)\n",
    "print ('08 + 12结果：', array_08 + array_12)\n",
    "print ('08 + 13结果：', array_08 + array_13)\n",
    "print ('08 + 14结果：', array_08 + array_14)"
   ]
  },
  {
   "cell_type": "code",
   "execution_count": null,
   "metadata": {},
   "outputs": [],
   "source": [
    "vector_01 = np.array([1, 2, 3])\n",
    "vector_02 = np.array([[1], [2], [3]])\n",
    "vector_03 = np.array([2])\n",
    "vector_04 = vector_02.reshape(1, 3)\n",
    "vector_04_1 = vector_02.T\n",
    "print ('vector_01的形状:', vector_01.shape)\n",
    "print ('vector_02的形状:', vector_02.shape)\n",
    "print ('vector_03的形状:', vector_03.shape)\n",
    "print ('vector_04的形状:', vector_04.shape)\n",
    "print ('vector_04_1的形状:', vector_04_1.shape)\n",
    "print ('01和01的点积:', np.dot(vector_01, vector_01))\n",
    "print ('01和02的点积:', np.dot(vector_01, vector_02))\n",
    "print ('04和02的点积:', np.dot(vector_04, vector_02))\n",
    "print ('01和数字的点积:', np.dot(vector_01, 2))\n",
    "print ('02和03的点积:', np.dot(vector_02, vector_03))\n",
    "print ('02和04的点积:', np.dot(vector_02, vector_04))\n",
    "print ('01和03的点积:', np.dot(vector_01, vector_03))\n",
    "print ('02和02的点积:', np.dot(vector_02, vector_02))"
   ]
  },
  {
   "cell_type": "code",
   "execution_count": null,
   "metadata": {},
   "outputs": [],
   "source": [
    "matrix_01 = np.arange(0, 6).reshape(2, 3)\n",
    "matrix_02 = np.arange(0, 6).reshape(3, 2)\n",
    "print(matrix_01)\n",
    "print(matrix_02)\n",
    "print ('01和02的点积:', np.dot(matrix_01, matrix_02))\n",
    "print ('02和01的点积:', np.dot(matrix_02, matrix_01))"
   ]
  }
 ],
 "metadata": {
  "kernelspec": {
   "display_name": ".venv",
   "language": "python",
   "name": "python3"
  },
  "language_info": {
   "codemirror_mode": {
    "name": "ipython",
    "version": 3
   },
   "file_extension": ".py",
   "mimetype": "text/x-python",
   "name": "python",
   "nbconvert_exporter": "python",
   "pygments_lexer": "ipython3",
   "version": "3.11.2"
  }
 },
 "nbformat": 4,
 "nbformat_minor": 2
}

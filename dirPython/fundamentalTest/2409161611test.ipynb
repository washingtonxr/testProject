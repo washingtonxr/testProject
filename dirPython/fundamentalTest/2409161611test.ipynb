{
 "cells": [
  {
   "cell_type": "code",
   "execution_count": null,
   "metadata": {},
   "outputs": [],
   "source": [
    "import matplotlib.pyplot as plt\n",
    "import numpy as np\n",
    "\n",
    "%time\n",
    "%prun\n",
    "\n",
    "# Create time axis\n",
    "t = np.linspace(0, 4*np.pi, 512)\n",
    "\n",
    "# Define signals from 3 antennas\n",
    "signal_antenna_1 = np.sin(t)  # Delay of 0\n",
    "signal_antenna_2 = np.sin(t + np.pi*1/4)  # Delay of π*1/4\n",
    "signal_antenna_3 = np.sin(t + np.pi*2/4)  # Delay of π*2/4\n",
    "signal_antenna_4 = np.sin(t + np.pi*3/4)  # Delay of π*3/4"
   ]
  },
  {
   "cell_type": "code",
   "execution_count": null,
   "metadata": {},
   "outputs": [],
   "source": [
    "%time\n",
    "%prun\n",
    "\n",
    "# Plot the signals from each antenna\n",
    "plt.figure(figsize=(10, 6))\n",
    "plt.plot(t, signal_antenna_1, label='Antenna 1 (no delay)', color='r')\n",
    "plt.plot(t, signal_antenna_2, label='Antenna 2 (π*1/4 delay)', color='g')\n",
    "plt.plot(t, signal_antenna_3, label='Antenna 3 (π*2/4 delay)', color='b')\n",
    "plt.plot(t, signal_antenna_4, label='Antenna 4 (π*3/4 delay)', color='c')\n",
    "\n",
    "# Labels and legend\n",
    "plt.title('Cyclic Delay Diversity (CDD) - Signals from Different Antennas')\n",
    "plt.xlabel('Time')\n",
    "plt.ylabel('Signal Amplitude')\n",
    "plt.legend(loc='upper right')\n",
    "plt.grid(True)\n",
    "plt.show()"
   ]
  }
 ],
 "metadata": {
  "kernelspec": {
   "display_name": "Python 3",
   "language": "python",
   "name": "python3"
  },
  "language_info": {
   "codemirror_mode": {
    "name": "ipython",
    "version": 3
   },
   "file_extension": ".py",
   "mimetype": "text/x-python",
   "name": "python",
   "nbconvert_exporter": "python",
   "pygments_lexer": "ipython3",
   "version": "3.12.3"
  }
 },
 "nbformat": 4,
 "nbformat_minor": 2
}
